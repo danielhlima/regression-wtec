{
 "cells": [
  {
   "cell_type": "code",
   "execution_count": 1,
   "metadata": {},
   "outputs": [],
   "source": [
    "import numpy as np # linear algebra\n",
    "import pandas as pd # data processing, CSV file I/O (e.g. pd.read_csv)\n",
    "import matplotlib.pyplot as plt\n",
    "import time\n",
    "from sklearn import preprocessing\n",
    "from lightgbm import LGBMRegressor\n",
    "from sklearn.model_selection import train_test_split, RandomizedSearchCV\n",
    "from scipy.stats import uniform \n",
    "from scipy.stats import randint as sp_randint\n",
    "from sklearn.metrics import mean_squared_error as mse\n",
    "from sklearn.metrics import mean_absolute_error as mae\n",
    "from sklearn.preprocessing import OneHotEncoder\n",
    "from sklearn.compose import ColumnTransformer\n",
    "from math import sqrt"
   ]
  },
  {
   "cell_type": "code",
   "execution_count": null,
   "metadata": {},
   "outputs": [],
   "source": [
    "#DEFINIÇÃO DAS FUNÇÕES QUE SERÃO UTILIZADAS NO DESAFIO."
   ]
  },
  {
   "cell_type": "code",
   "execution_count": 2,
   "metadata": {},
   "outputs": [],
   "source": [
    "#NÓS UTILIZAMOS A INFORMAÇÃO DO CLUSTER QUE O CLIENTE PERTENCE (desafio 1) COMO FEATURE NA REGRESSÃO.\n",
    "#PORTANTO PARA QUE OS DESAFIOS POSSAM SER EXECUTADOS INDEPENDENTEMENTE, COLOCAMOS JUNTO À ESTE NOTEBOOK\n",
    "#O ARQUIVO CSV QUE CONTEM OS CLUSTERS ORIUNDOS DO DESAFIO 1."
   ]
  },
  {
   "cell_type": "code",
   "execution_count": 4,
   "metadata": {},
   "outputs": [],
   "source": [
    "def loadDataset():\n",
    "    global base_dataset\n",
    "    global work_dataset\n",
    "    global base_for_cluster\n",
    "    base_for_cluster = pd.read_csv('work_df_to_classifydataset.csv')\n",
    "    base_dataset = pd.read_csv('solicitacoescredito.csv')\n",
    "    work_dataset = base_dataset.copy(deep=True)\n",
    "    \n",
    "def categoryToDummy(field, prefix, drop_first=True):\n",
    "    global work_dataset\n",
    "    t_dummy = pd.get_dummies(work_dataset[field], prefix=prefix, drop_first=drop_first)\n",
    "    work_dataset = pd.concat([work_dataset, t_dummy], axis =1)\n",
    "    work_dataset.drop([field], axis=1, inplace=True)\n",
    "    \n",
    "def transformDateFieldToInt(field):\n",
    "    global work_dataset\n",
    "    work_dataset[field] = pd.to_datetime(work_dataset[field], errors='coerce' )\n",
    "    work_dataset[field] = work_dataset[field].fillna(0).astype(np.int64, errors='ignore')\n",
    "    for index, value in work_dataset[field].items():\n",
    "        if(not isinstance(value, int)):\n",
    "            work_dataset[field][index] = time.mktime(value.timetuple())\n",
    "            \n",
    "def fillMissingValueWithZero(field):\n",
    "    global work_dataset\n",
    "    work_dataset[field] = work_dataset[field].fillna(0).astype(np.int64, errors='ignore')\n",
    "    \n",
    "def fillMissingValueByMean(field):\n",
    "    global work_dataset\n",
    "    work_dataset[field] = work_dataset[field].fillna(work_dataset[field].mean()).astype(np.int64, errors='ignore')\n",
    "\n",
    "def preprocessingDataset():\n",
    "    global work_dataset\n",
    "    #Tratamento coluna definicaoRisco\n",
    "    work_dataset.replace(to_replace='De 0 a 10 % - Muito Baixo', value='Muito Baixo', inplace=True)\n",
    "    work_dataset.replace(to_replace='De 11 a 30 % - Baixo', value='Baixo', inplace=True)\n",
    "    work_dataset.replace(to_replace='De 31 a 50 % - Médio', value='Medio', inplace=True)\n",
    "    work_dataset.replace(to_replace='De 51 a 80 % - Alto', value='Alto', inplace=True)\n",
    "    \n",
    "    #Removendo as colunas que acredito não serem importantes agora\n",
    "    #Campos default para remoção\n",
    "    work_dataset.drop(['numero_solicitacao', 'razaoSocial', 'nomeFantasia', 'cnpjSemTraco'], axis=1, inplace=True)\n",
    "    work_dataset.drop(['percentualProtestos','primeiraCompra','status', 'dashboardCorrelacao', 'dataAprovadoEmComite','periodoBalanco', 'ativoCirculante', 'passivoCirculante', 'totalAtivo', 'totalPatrimonioLiquido', 'endividamento', 'duplicatasAReceber', 'estoque', 'intervaloFundacao', 'dataAprovadoNivelAnalista'], axis=1, inplace=True)\n",
    "\n",
    "    categoryToDummy('definicaoRisco', 'Risco')\n",
    "\n",
    "    fillMissingValueWithZero('valorAprovado')\n",
    "    fillMissingValueWithZero('faturamentoBruto')\n",
    "    \n",
    "    #Tratamento de missing values com a média \n",
    "    fillMissingValueByMean('margemBruta')\n",
    "    fillMissingValueByMean('periodoDemonstrativoEmMeses')\n",
    "    fillMissingValueByMean('custos')\n",
    "    fillMissingValueByMean('anoFundacao')\n",
    "    fillMissingValueByMean('capitalSocial')\n",
    "    fillMissingValueByMean('scorePontualidade')\n",
    "    fillMissingValueByMean('limiteEmpresaAnaliseCredito')\n",
    "    categoryToDummy('empresa_MeEppMei', 'Empresa_MeEppMei', True)\n",
    "    categoryToDummy('restricoes', 'Restricao', True)\n",
    "    \n",
    "    work_dataset = work_dataset.loc[work_dataset['anoFundacao'] > 1001]\n",
    "    \n",
    "    df2 = pd.DataFrame(base_for_cluster['cluster'].values, dtype=int, columns=list('y'))\n",
    "    work_dataset['cluster'] = df2.values\n",
    "    #work_dataset.to_excel('planiliha_para_testar_regressao.xlsx')\n",
    "  \n",
    "    \n",
    "def normalizeAndSplitDataset():\n",
    "    global y\n",
    "    global X\n",
    "    global X_train\n",
    "    global X_test\n",
    "    global y_train\n",
    "    global y_test\n",
    "    global work_dataset\n",
    "    \n",
    "    work_dataset = work_dataset[work_dataset['valorAprovado'] < 400000]\n",
    "    \n",
    "    X = work_dataset.drop(['valorAprovado'], axis=1).values\n",
    "    y = work_dataset['valorAprovado'].values\n",
    "    \n",
    "    onehotencoder = ColumnTransformer(transformers=[('OneHot', OneHotEncoder(), [20])], remainder='passthrough')\n",
    "    X = onehotencoder.fit_transform(X)\n",
    "    \n",
    "    scaler_class = preprocessing.StandardScaler().fit(X)\n",
    "    print(\"Mean of Unscaled Features: {}\".format(np.mean(X))) \n",
    "    print(\"Standard Deviation of Unscaled Features: {}\".format(np.std(X)))\n",
    "    X = scaler_class.transform(X)\n",
    "    # Print the mean and standard deviation of the scaled features\n",
    "    print(\"Mean of Scaled Features: {}\".format(np.mean(X))) \n",
    "    print(\"Standard Deviation of Scaled Features: {}\".format(np.std(X)))\n",
    "    \n",
    "    \n",
    "    \n",
    "    X_train, X_test, y_train, y_test = train_test_split(X, y, test_size = .2, random_state=25)\n",
    "\n",
    "def runGridSearchToEvaluateBestModelParams():\n",
    "    global best_params\n",
    "    lgb_model = LGBMRegressor(subsample=0.9)\n",
    "\n",
    "    params = {'learning_rate': uniform(0, 1),\n",
    "              'n_estimators': sp_randint(200, 1500),\n",
    "              'num_leaves': sp_randint(20, 200),\n",
    "              'max_depth': sp_randint(2, 15),\n",
    "              'min_child_weight': uniform(0, 2),\n",
    "              'colsample_bytree': uniform(0, 1),\n",
    "              }\n",
    "    lgb_random = RandomizedSearchCV(lgb_model, param_distributions=params, n_iter=10, cv=3, random_state=42, \n",
    "                                scoring='neg_root_mean_squared_error', verbose=10, return_train_score=True)\n",
    "    lgb_random = lgb_random.fit(X_train, y_train)\n",
    "\n",
    "    best_params = lgb_random.best_params_\n",
    "    print(\"\\n\\n\\n\")\n",
    "    print(\"Aooo...best params...:\",best_params)\n",
    "    \n",
    "def runRegressionWithBestParams():\n",
    "    global y_pred\n",
    "    global best_params\n",
    "    model = LGBMRegressor(**best_params, subsample=0.9, random_state=42, n_jobs=-1)\n",
    "    model.fit(X_train, y_train)\n",
    "    y_pred = model.predict(X_test)\n",
    "    print(\"\\n\")\n",
    "    print(\"Acurácia LGBMRegressor: {:.2f}\".format(model.score(X_test, y_test)))\n",
    "    print('\\nTest RMSLE: {:.2f}'.format(sqrt(mse(y_test, y_pred))))\n",
    "    lgb_rmsle = sqrt(mse(y_test, y_pred))\n",
    "    print(\"\\nCross validation RMSLE: {:.2f}\".format(lgb_rmsle))\n",
    "    #MAE\n",
    "    print(\"\\nMAE: {:.2f}\".format(mae(y_test, y_pred)))\n",
    "    \n",
    "def plotTestAndPrediction():\n",
    "    global y_pred\n",
    "    global y_test\n",
    "    fig, ax = plt.subplots()\n",
    "    ax.scatter(y_test, y_pred)\n",
    "    ax.plot([y_test.min(), y_test.max()], [y_test.min(), y_test.max()], 'k--', lw=4)\n",
    "    ax.set_xlabel('Esperado')\n",
    "    ax.set_ylabel('Predito')\n",
    "    plt.show()"
   ]
  },
  {
   "cell_type": "code",
   "execution_count": 5,
   "metadata": {},
   "outputs": [],
   "source": [
    "loadDataset()"
   ]
  },
  {
   "cell_type": "code",
   "execution_count": 6,
   "metadata": {},
   "outputs": [],
   "source": [
    "preprocessingDataset()"
   ]
  },
  {
   "cell_type": "code",
   "execution_count": 7,
   "metadata": {},
   "outputs": [
    {
     "name": "stdout",
     "output_type": "stream",
     "text": [
      "Mean of Unscaled Features: 2456359.996383719\n",
      "Standard Deviation of Unscaled Features: 47772477.16086164\n",
      "Mean of Scaled Features: -1.2035445415925045e-15\n",
      "Standard Deviation of Scaled Features: 0.999999999999993\n"
     ]
    }
   ],
   "source": [
    "normalizeAndSplitDataset()"
   ]
  },
  {
   "cell_type": "code",
   "execution_count": 8,
   "metadata": {},
   "outputs": [
    {
     "name": "stdout",
     "output_type": "stream",
     "text": [
      "Fitting 3 folds for each of 10 candidates, totalling 30 fits\n",
      "[CV] colsample_bytree=0.3745401188473625, learning_rate=0.9507143064099162, max_depth=12, min_child_weight=1.5593820005455385, n_estimators=1244, num_leaves=122 \n"
     ]
    },
    {
     "name": "stderr",
     "output_type": "stream",
     "text": [
      "[Parallel(n_jobs=1)]: Using backend SequentialBackend with 1 concurrent workers.\n"
     ]
    },
    {
     "name": "stdout",
     "output_type": "stream",
     "text": [
      "[CV]  colsample_bytree=0.3745401188473625, learning_rate=0.9507143064099162, max_depth=12, min_child_weight=1.5593820005455385, n_estimators=1244, num_leaves=122, score=(train=-3424.878, test=-36508.246), total=   3.7s\n",
      "[CV] colsample_bytree=0.3745401188473625, learning_rate=0.9507143064099162, max_depth=12, min_child_weight=1.5593820005455385, n_estimators=1244, num_leaves=122 \n"
     ]
    },
    {
     "name": "stderr",
     "output_type": "stream",
     "text": [
      "[Parallel(n_jobs=1)]: Done   1 out of   1 | elapsed:    4.0s remaining:    0.0s\n"
     ]
    },
    {
     "name": "stdout",
     "output_type": "stream",
     "text": [
      "[CV]  colsample_bytree=0.3745401188473625, learning_rate=0.9507143064099162, max_depth=12, min_child_weight=1.5593820005455385, n_estimators=1244, num_leaves=122, score=(train=-7457.595, test=-34387.248), total=   2.9s\n",
      "[CV] colsample_bytree=0.3745401188473625, learning_rate=0.9507143064099162, max_depth=12, min_child_weight=1.5593820005455385, n_estimators=1244, num_leaves=122 \n"
     ]
    },
    {
     "name": "stderr",
     "output_type": "stream",
     "text": [
      "[Parallel(n_jobs=1)]: Done   2 out of   2 | elapsed:    7.2s remaining:    0.0s\n"
     ]
    },
    {
     "name": "stdout",
     "output_type": "stream",
     "text": [
      "[CV]  colsample_bytree=0.3745401188473625, learning_rate=0.9507143064099162, max_depth=12, min_child_weight=1.5593820005455385, n_estimators=1244, num_leaves=122, score=(train=-5368.467, test=-33443.804), total=   4.0s\n",
      "[CV] colsample_bytree=0.44583275285359114, learning_rate=0.09997491581800289, max_depth=12, min_child_weight=1.7323522915498704, n_estimators=1323, num_leaves=123 \n"
     ]
    },
    {
     "name": "stderr",
     "output_type": "stream",
     "text": [
      "[Parallel(n_jobs=1)]: Done   3 out of   3 | elapsed:   11.6s remaining:    0.0s\n"
     ]
    },
    {
     "name": "stdout",
     "output_type": "stream",
     "text": [
      "[CV]  colsample_bytree=0.44583275285359114, learning_rate=0.09997491581800289, max_depth=12, min_child_weight=1.7323522915498704, n_estimators=1323, num_leaves=123, score=(train=-3879.981, test=-29786.326), total=   2.4s\n",
      "[CV] colsample_bytree=0.44583275285359114, learning_rate=0.09997491581800289, max_depth=12, min_child_weight=1.7323522915498704, n_estimators=1323, num_leaves=123 \n"
     ]
    },
    {
     "name": "stderr",
     "output_type": "stream",
     "text": [
      "[Parallel(n_jobs=1)]: Done   4 out of   4 | elapsed:   14.3s remaining:    0.0s\n"
     ]
    },
    {
     "name": "stdout",
     "output_type": "stream",
     "text": [
      "[CV]  colsample_bytree=0.44583275285359114, learning_rate=0.09997491581800289, max_depth=12, min_child_weight=1.7323522915498704, n_estimators=1323, num_leaves=123, score=(train=-5339.590, test=-27692.230), total=   2.4s\n",
      "[CV] colsample_bytree=0.44583275285359114, learning_rate=0.09997491581800289, max_depth=12, min_child_weight=1.7323522915498704, n_estimators=1323, num_leaves=123 \n"
     ]
    },
    {
     "name": "stderr",
     "output_type": "stream",
     "text": [
      "[Parallel(n_jobs=1)]: Done   5 out of   5 | elapsed:   17.1s remaining:    0.0s\n"
     ]
    },
    {
     "name": "stdout",
     "output_type": "stream",
     "text": [
      "[CV]  colsample_bytree=0.44583275285359114, learning_rate=0.09997491581800289, max_depth=12, min_child_weight=1.7323522915498704, n_estimators=1323, num_leaves=123, score=(train=-5158.183, test=-28088.374), total=   2.2s\n",
      "[CV] colsample_bytree=0.7080725777960455, learning_rate=0.020584494295802447, max_depth=3, min_child_weight=1.4439975445336495, n_estimators=1005, num_leaves=149 \n"
     ]
    },
    {
     "name": "stderr",
     "output_type": "stream",
     "text": [
      "[Parallel(n_jobs=1)]: Done   6 out of   6 | elapsed:   19.5s remaining:    0.0s\n"
     ]
    },
    {
     "name": "stdout",
     "output_type": "stream",
     "text": [
      "[CV]  colsample_bytree=0.7080725777960455, learning_rate=0.020584494295802447, max_depth=3, min_child_weight=1.4439975445336495, n_estimators=1005, num_leaves=149, score=(train=-20641.735, test=-29655.657), total=   0.3s\n",
      "[CV] colsample_bytree=0.7080725777960455, learning_rate=0.020584494295802447, max_depth=3, min_child_weight=1.4439975445336495, n_estimators=1005, num_leaves=149 \n"
     ]
    },
    {
     "name": "stderr",
     "output_type": "stream",
     "text": [
      "[Parallel(n_jobs=1)]: Done   7 out of   7 | elapsed:   19.9s remaining:    0.0s\n"
     ]
    },
    {
     "name": "stdout",
     "output_type": "stream",
     "text": [
      "[CV]  colsample_bytree=0.7080725777960455, learning_rate=0.020584494295802447, max_depth=3, min_child_weight=1.4439975445336495, n_estimators=1005, num_leaves=149, score=(train=-22786.709, test=-25789.615), total=   0.3s\n",
      "[CV] colsample_bytree=0.7080725777960455, learning_rate=0.020584494295802447, max_depth=3, min_child_weight=1.4439975445336495, n_estimators=1005, num_leaves=149 \n"
     ]
    },
    {
     "name": "stderr",
     "output_type": "stream",
     "text": [
      "[Parallel(n_jobs=1)]: Done   8 out of   8 | elapsed:   20.3s remaining:    0.0s\n"
     ]
    },
    {
     "name": "stdout",
     "output_type": "stream",
     "text": [
      "[CV]  colsample_bytree=0.7080725777960455, learning_rate=0.020584494295802447, max_depth=3, min_child_weight=1.4439975445336495, n_estimators=1005, num_leaves=149, score=(train=-21807.404, test=-27923.315), total=   0.4s\n",
      "[CV] colsample_bytree=0.18182496720710062, learning_rate=0.18340450985343382, max_depth=13, min_child_weight=1.2233063209765618, n_estimators=452, num_leaves=108 \n"
     ]
    },
    {
     "name": "stderr",
     "output_type": "stream",
     "text": [
      "[Parallel(n_jobs=1)]: Done   9 out of   9 | elapsed:   20.8s remaining:    0.0s\n"
     ]
    },
    {
     "name": "stdout",
     "output_type": "stream",
     "text": [
      "[CV]  colsample_bytree=0.18182496720710062, learning_rate=0.18340450985343382, max_depth=13, min_child_weight=1.2233063209765618, n_estimators=452, num_leaves=108, score=(train=-7126.680, test=-34001.098), total=   0.9s\n",
      "[CV] colsample_bytree=0.18182496720710062, learning_rate=0.18340450985343382, max_depth=13, min_child_weight=1.2233063209765618, n_estimators=452, num_leaves=108 \n",
      "[CV]  colsample_bytree=0.18182496720710062, learning_rate=0.18340450985343382, max_depth=13, min_child_weight=1.2233063209765618, n_estimators=452, num_leaves=108, score=(train=-8214.112, test=-32730.561), total=   1.0s\n",
      "[CV] colsample_bytree=0.18182496720710062, learning_rate=0.18340450985343382, max_depth=13, min_child_weight=1.2233063209765618, n_estimators=452, num_leaves=108 \n",
      "[CV]  colsample_bytree=0.18182496720710062, learning_rate=0.18340450985343382, max_depth=13, min_child_weight=1.2233063209765618, n_estimators=452, num_leaves=108, score=(train=-8357.915, test=-33478.536), total=   1.0s\n",
      "[CV] colsample_bytree=0.2912291401980419, learning_rate=0.6118528947223795, max_depth=11, min_child_weight=0.09333132642723085, n_estimators=899, num_leaves=34 \n",
      "[CV]  colsample_bytree=0.2912291401980419, learning_rate=0.6118528947223795, max_depth=11, min_child_weight=0.09333132642723085, n_estimators=899, num_leaves=34, score=(train=-4082.294, test=-35471.886), total=   1.1s\n",
      "[CV] colsample_bytree=0.2912291401980419, learning_rate=0.6118528947223795, max_depth=11, min_child_weight=0.09333132642723085, n_estimators=899, num_leaves=34 \n",
      "[CV]  colsample_bytree=0.2912291401980419, learning_rate=0.6118528947223795, max_depth=11, min_child_weight=0.09333132642723085, n_estimators=899, num_leaves=34, score=(train=-5429.106, test=-34668.239), total=   1.4s\n",
      "[CV] colsample_bytree=0.2912291401980419, learning_rate=0.6118528947223795, max_depth=11, min_child_weight=0.09333132642723085, n_estimators=899, num_leaves=34 \n",
      "[CV]  colsample_bytree=0.2912291401980419, learning_rate=0.6118528947223795, max_depth=11, min_child_weight=0.09333132642723085, n_estimators=899, num_leaves=34, score=(train=-5188.558, test=-34026.646), total=   1.0s\n",
      "[CV] colsample_bytree=0.45606998421703593, learning_rate=0.7851759613930136, max_depth=4, min_child_weight=0.7649239825343255, n_estimators=1467, num_leaves=83 \n",
      "[CV]  colsample_bytree=0.45606998421703593, learning_rate=0.7851759613930136, max_depth=4, min_child_weight=0.7649239825343255, n_estimators=1467, num_leaves=83, score=(train=-4487.478, test=-34311.736), total=   0.9s\n",
      "[CV] colsample_bytree=0.45606998421703593, learning_rate=0.7851759613930136, max_depth=4, min_child_weight=0.7649239825343255, n_estimators=1467, num_leaves=83 \n",
      "[CV]  colsample_bytree=0.45606998421703593, learning_rate=0.7851759613930136, max_depth=4, min_child_weight=0.7649239825343255, n_estimators=1467, num_leaves=83, score=(train=-6045.583, test=-32444.281), total=   0.7s\n",
      "[CV] colsample_bytree=0.45606998421703593, learning_rate=0.7851759613930136, max_depth=4, min_child_weight=0.7649239825343255, n_estimators=1467, num_leaves=83 \n",
      "[CV]  colsample_bytree=0.45606998421703593, learning_rate=0.7851759613930136, max_depth=4, min_child_weight=0.7649239825343255, n_estimators=1467, num_leaves=83, score=(train=-5063.194, test=-32385.197), total=   0.8s\n",
      "[CV] colsample_bytree=0.4667628932479799, learning_rate=0.8599404067363206, max_depth=8, min_child_weight=0.34104824737458306, n_estimators=366, num_leaves=37 \n",
      "[CV]  colsample_bytree=0.4667628932479799, learning_rate=0.8599404067363206, max_depth=8, min_child_weight=0.34104824737458306, n_estimators=366, num_leaves=37, score=(train=-3753.106, test=-36198.782), total=   0.5s\n",
      "[CV] colsample_bytree=0.4667628932479799, learning_rate=0.8599404067363206, max_depth=8, min_child_weight=0.34104824737458306, n_estimators=366, num_leaves=37 \n",
      "[CV]  colsample_bytree=0.4667628932479799, learning_rate=0.8599404067363206, max_depth=8, min_child_weight=0.34104824737458306, n_estimators=366, num_leaves=37, score=(train=-5785.743, test=-32282.828), total=   0.5s\n",
      "[CV] colsample_bytree=0.4667628932479799, learning_rate=0.8599404067363206, max_depth=8, min_child_weight=0.34104824737458306, n_estimators=366, num_leaves=37 \n",
      "[CV]  colsample_bytree=0.4667628932479799, learning_rate=0.8599404067363206, max_depth=8, min_child_weight=0.34104824737458306, n_estimators=366, num_leaves=37, score=(train=-5052.520, test=-31977.867), total=   0.5s\n",
      "[CV] colsample_bytree=0.9488855372533332, learning_rate=0.9656320330745594, max_depth=3, min_child_weight=0.7708330050798322, n_estimators=764, num_leaves=149 \n",
      "[CV]  colsample_bytree=0.9488855372533332, learning_rate=0.9656320330745594, max_depth=3, min_child_weight=0.7708330050798322, n_estimators=764, num_leaves=149, score=(train=-6713.952, test=-35551.626), total=   0.3s\n",
      "[CV] colsample_bytree=0.9488855372533332, learning_rate=0.9656320330745594, max_depth=3, min_child_weight=0.7708330050798322, n_estimators=764, num_leaves=149 \n",
      "[CV]  colsample_bytree=0.9488855372533332, learning_rate=0.9656320330745594, max_depth=3, min_child_weight=0.7708330050798322, n_estimators=764, num_leaves=149, score=(train=-7800.680, test=-33635.502), total=   0.3s\n",
      "[CV] colsample_bytree=0.9488855372533332, learning_rate=0.9656320330745594, max_depth=3, min_child_weight=0.7708330050798322, n_estimators=764, num_leaves=149 \n",
      "[CV]  colsample_bytree=0.9488855372533332, learning_rate=0.9656320330745594, max_depth=3, min_child_weight=0.7708330050798322, n_estimators=764, num_leaves=149, score=(train=-7610.424, test=-32480.326), total=   0.3s\n",
      "[CV] colsample_bytree=0.6842330265121569, learning_rate=0.4401524937396013, max_depth=8, min_child_weight=1.2199933155652418, n_estimators=975, num_leaves=194 \n",
      "[CV]  colsample_bytree=0.6842330265121569, learning_rate=0.4401524937396013, max_depth=8, min_child_weight=1.2199933155652418, n_estimators=975, num_leaves=194, score=(train=-3369.461, test=-32107.178), total=   1.5s\n",
      "[CV] colsample_bytree=0.6842330265121569, learning_rate=0.4401524937396013, max_depth=8, min_child_weight=1.2199933155652418, n_estimators=975, num_leaves=194 \n",
      "[CV]  colsample_bytree=0.6842330265121569, learning_rate=0.4401524937396013, max_depth=8, min_child_weight=1.2199933155652418, n_estimators=975, num_leaves=194, score=(train=-5045.466, test=-28643.005), total=   1.3s\n",
      "[CV] colsample_bytree=0.6842330265121569, learning_rate=0.4401524937396013, max_depth=8, min_child_weight=1.2199933155652418, n_estimators=975, num_leaves=194 \n",
      "[CV]  colsample_bytree=0.6842330265121569, learning_rate=0.4401524937396013, max_depth=8, min_child_weight=1.2199933155652418, n_estimators=975, num_leaves=194, score=(train=-4733.764, test=-29414.180), total=   1.4s\n",
      "[CV] colsample_bytree=0.17336465350777208, learning_rate=0.3910606075732408, max_depth=3, min_child_weight=1.325044568707964, n_estimators=1225, num_leaves=153 \n",
      "[CV]  colsample_bytree=0.17336465350777208, learning_rate=0.3910606075732408, max_depth=3, min_child_weight=1.325044568707964, n_estimators=1225, num_leaves=153, score=(train=-12539.147, test=-32157.321), total=   0.4s\n",
      "[CV] colsample_bytree=0.17336465350777208, learning_rate=0.3910606075732408, max_depth=3, min_child_weight=1.325044568707964, n_estimators=1225, num_leaves=153 \n",
      "[CV]  colsample_bytree=0.17336465350777208, learning_rate=0.3910606075732408, max_depth=3, min_child_weight=1.325044568707964, n_estimators=1225, num_leaves=153, score=(train=-13381.417, test=-30431.423), total=   0.4s\n",
      "[CV] colsample_bytree=0.17336465350777208, learning_rate=0.3910606075732408, max_depth=3, min_child_weight=1.325044568707964, n_estimators=1225, num_leaves=153 \n",
      "[CV]  colsample_bytree=0.17336465350777208, learning_rate=0.3910606075732408, max_depth=3, min_child_weight=1.325044568707964, n_estimators=1225, num_leaves=153, score=(train=-13252.717, test=-30883.117), total=   0.5s\n"
     ]
    },
    {
     "name": "stderr",
     "output_type": "stream",
     "text": [
      "[Parallel(n_jobs=1)]: Done  30 out of  30 | elapsed:   39.2s finished\n"
     ]
    },
    {
     "name": "stdout",
     "output_type": "stream",
     "text": [
      "\n",
      "\n",
      "\n",
      "\n",
      "Aooo...best params...: {'colsample_bytree': 0.7080725777960455, 'learning_rate': 0.020584494295802447, 'max_depth': 3, 'min_child_weight': 1.4439975445336495, 'n_estimators': 1005, 'num_leaves': 149}\n"
     ]
    }
   ],
   "source": [
    "runGridSearchToEvaluateBestModelParams()"
   ]
  },
  {
   "cell_type": "code",
   "execution_count": 9,
   "metadata": {},
   "outputs": [
    {
     "name": "stdout",
     "output_type": "stream",
     "text": [
      "\n",
      "\n",
      "Acurácia LGBMRegressor: 0.82\n",
      "\n",
      "Test RMSLE: 30319.34\n",
      "\n",
      "Cross validation RMSLE: 30319.34\n",
      "\n",
      "MAE: 14616.78\n"
     ]
    }
   ],
   "source": [
    "runRegressionWithBestParams()"
   ]
  },
  {
   "cell_type": "code",
   "execution_count": 10,
   "metadata": {},
   "outputs": [
    {
     "data": {
      "image/png": "[encoded data removed]",
      "text/plain": [
       "<Figure size 432x288 with 1 Axes>"
      ]
     },
     "metadata": {
      "needs_background": "light"
     },
     "output_type": "display_data"
    }
   ],
   "source": [
    "plotTestAndPrediction()"
   ]
  },
  {
   "cell_type": "code",
   "execution_count": null,
   "metadata": {},
   "outputs": [],
   "source": [
    "#FIM DO DESAFIO 03"
   ]
  }
 ],
 "metadata": {
  "kernelspec": {
   "display_name": "Python 3",
   "language": "python",
   "name": "python3"
  },
  "language_info": {
   "codemirror_mode": {
    "name": "ipython",
    "version": 3
   },
   "file_extension": ".py",
   "mimetype": "text/x-python",
   "name": "python",
   "nbconvert_exporter": "python",
   "pygments_lexer": "ipython3",
   "version": "3.8.3"
  }
 },
 "nbformat": 4,
 "nbformat_minor": 4
}
